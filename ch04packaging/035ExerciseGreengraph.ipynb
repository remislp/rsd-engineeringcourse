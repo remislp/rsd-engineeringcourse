{
 "cells": [
  {
   "cell_type": "markdown",
   "metadata": {},
   "source": [
    "### Exercise - Packaging Greengraph"
   ]
  },
  {
   "cell_type": "markdown",
   "metadata": {},
   "source": [
    "\n",
    "We previously looked at some notebook code that enables us to explore how green space varies as we move from the city to the countryside:\n"
   ]
  },
  {
   "cell_type": "markdown",
   "metadata": {},
   "source": [
    "Your task for the first exercise will be to transform this into a python package that can be pip installed directly from GitHub. Remember to include:\n",
    "\n",
    "- an \\__init\\__.py file\n",
    "- a setup.py file\n",
    "- tests\n",
    "- license and documentation\n",
    "- command entry point script\n",
    "\n",
    "You should, in the end, be able to pip install your code on a clean computer, and do something similar to\n",
    "\n",
    "``` bash\n",
    "greengraph --from London --to Oxford --steps 10 --out graph.png\n",
    "```\n",
    "\n",
    "A formal assessed exercise rubric will be provided. "
   ]
  }
 ],
 "metadata": {
  "jekyll": {
   "display_name": "Exercise- Packaging Greengraph"
  },
  "kernelspec": {
   "display_name": "Python 3",
   "language": "python",
   "name": "python3"
  },
  "language_info": {
   "codemirror_mode": {
    "name": "ipython",
    "version": 3
   },
   "file_extension": ".py",
   "mimetype": "text/x-python",
   "name": "python",
   "nbconvert_exporter": "python",
   "pygments_lexer": "ipython3",
   "version": "3.5.2"
  }
 },
 "nbformat": 4,
 "nbformat_minor": 0
}
